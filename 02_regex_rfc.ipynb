{
 "cells": [
  {
   "cell_type": "code",
   "execution_count": 3,
   "id": "2ae18460-f7f3-4cfb-928f-09995bdef322",
   "metadata": {},
   "outputs": [
    {
     "name": "stdout",
     "output_type": "stream",
     "text": [
      "False\n"
     ]
    }
   ],
   "source": [
    "import re\n",
    "\n",
    "pattern = r'^([A-ZÑ&]{3,4})\\d{6}([A-Z\\d]{3})?$'\n",
    "\n",
    "rfc = '890724H78'\n",
    "\n",
    "result = re.findall(pattern, rfc, re.IGNORECASE)\n",
    "print(bool(result))"
   ]
  },
  {
   "cell_type": "code",
   "execution_count": null,
   "id": "885b800d-80c2-4623-a21d-2f47cd0fa6a5",
   "metadata": {},
   "outputs": [],
   "source": []
  }
 ],
 "metadata": {
  "kernelspec": {
   "display_name": "Python 3 (ipykernel)",
   "language": "python",
   "name": "python3"
  },
  "language_info": {
   "codemirror_mode": {
    "name": "ipython",
    "version": 3
   },
   "file_extension": ".py",
   "mimetype": "text/x-python",
   "name": "python",
   "nbconvert_exporter": "python",
   "pygments_lexer": "ipython3",
   "version": "3.10.5"
  }
 },
 "nbformat": 4,
 "nbformat_minor": 5
}
