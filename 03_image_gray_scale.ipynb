{
 "cells": [
  {
   "cell_type": "code",
   "execution_count": 1,
   "id": "cdfebffc-eb94-4994-9c0c-52b1669f5a91",
   "metadata": {},
   "outputs": [],
   "source": [
    "import cv2"
   ]
  },
  {
   "cell_type": "code",
   "execution_count": 2,
   "id": "f28a24c2-a2f0-465d-a49f-2db3f6644f50",
   "metadata": {},
   "outputs": [],
   "source": [
    "FILENAME = 'tmp/olympic-iconic-surf-photo.jpg'\n",
    "\n",
    "# Cargar de imagen\n",
    "image = cv2.imread(FILENAME)\n",
    "\n",
    "# Mostrar imagen original\n",
    "cv2.imshow('Imagen original', image)\n",
    "\n",
    "# Crear una nueva imagen temporal en escala de grises\n",
    "img_gray_scale = cv2.cvtColor(image, cv2.COLOR_BGR2GRAY)\n",
    "\n",
    "# Mostrar nueva imagen en escala de grises\n",
    "cv2.imshow('Imagen en escala de grises', img_gray_scale)\n",
    "\n",
    "# DEstruir ventanas abiertas\n",
    "cv2.waitKey(0)\n",
    "cv2.destroyAllWindows()"
   ]
  },
  {
   "cell_type": "code",
   "execution_count": null,
   "id": "bce95f55-c898-4752-bad0-7140bf044ee9",
   "metadata": {},
   "outputs": [],
   "source": []
  }
 ],
 "metadata": {
  "kernelspec": {
   "display_name": "Python 3 (ipykernel)",
   "language": "python",
   "name": "python3"
  },
  "language_info": {
   "codemirror_mode": {
    "name": "ipython",
    "version": 3
   },
   "file_extension": ".py",
   "mimetype": "text/x-python",
   "name": "python",
   "nbconvert_exporter": "python",
   "pygments_lexer": "ipython3",
   "version": "3.10.5"
  }
 },
 "nbformat": 4,
 "nbformat_minor": 5
}
