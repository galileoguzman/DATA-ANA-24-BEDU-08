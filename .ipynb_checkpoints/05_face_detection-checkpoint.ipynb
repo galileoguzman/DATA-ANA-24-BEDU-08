{
 "cells": [
  {
   "cell_type": "code",
   "execution_count": null,
   "id": "c8854d4d-ecda-4c29-b23c-fe00e14c6555",
   "metadata": {},
   "outputs": [],
   "source": [
    "import cv2\n",
    "\n",
    "FILENAME = 'tmp/clase.png'\n",
    "\n",
    "# Crear clasificador de rostros\n",
    "clasificador_rostros = cv2.CascadeClassifier(\n",
    "    cv2.data.haarcascades + 'haarcascade_frontalface_default.xml'\n",
    ")\n",
    "\n",
    "# Cargar de imagen\n",
    "imagen = cv2.imread(FILENAME)\n",
    "\n",
    "\n",
    "\n"
   ]
  }
 ],
 "metadata": {
  "kernelspec": {
   "display_name": "Python 3 (ipykernel)",
   "language": "python",
   "name": "python3"
  },
  "language_info": {
   "codemirror_mode": {
    "name": "ipython",
    "version": 3
   },
   "file_extension": ".py",
   "mimetype": "text/x-python",
   "name": "python",
   "nbconvert_exporter": "python",
   "pygments_lexer": "ipython3",
   "version": "3.10.5"
  }
 },
 "nbformat": 4,
 "nbformat_minor": 5
}
